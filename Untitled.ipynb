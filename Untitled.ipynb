{
 "cells": [
  {
   "cell_type": "code",
   "execution_count": 7,
   "id": "5b9ac509",
   "metadata": {},
   "outputs": [],
   "source": [
    "import numpy as np # linear algebra\n",
    "import pandas as pd # data processing, CSV file "
   ]
  },
  {
   "cell_type": "code",
   "execution_count": 20,
   "id": "27f9dc3e",
   "metadata": {},
   "outputs": [],
   "source": [
    "df = pd.read_csv('Airbnb_Open_Data.csv')\n",
    "\n"
   ]
  },
  {
   "cell_type": "code",
   "execution_count": 21,
   "id": "eb73451e",
   "metadata": {},
   "outputs": [
    {
     "name": "stdout",
     "output_type": "stream",
     "text": [
      "<class 'pandas.core.frame.DataFrame'>\n",
      "RangeIndex: 102599 entries, 0 to 102598\n",
      "Data columns (total 26 columns):\n",
      " #   Column                          Non-Null Count   Dtype  \n",
      "---  ------                          --------------   -----  \n",
      " 0   id                              102599 non-null  int64  \n",
      " 1   NAME                            102349 non-null  object \n",
      " 2   host id                         102599 non-null  int64  \n",
      " 3   host_identity_verified          102310 non-null  object \n",
      " 4   host name                       102193 non-null  object \n",
      " 5   neighbourhood group             102570 non-null  object \n",
      " 6   neighbourhood                   102583 non-null  object \n",
      " 7   lat                             102591 non-null  float64\n",
      " 8   long                            102591 non-null  float64\n",
      " 9   country                         102067 non-null  object \n",
      " 10  country code                    102468 non-null  object \n",
      " 11  instant_bookable                102494 non-null  object \n",
      " 12  cancellation_policy             102523 non-null  object \n",
      " 13  room type                       102599 non-null  object \n",
      " 14  Construction year               102385 non-null  float64\n",
      " 15  price                           102352 non-null  object \n",
      " 16  service fee                     102326 non-null  object \n",
      " 17  minimum nights                  102190 non-null  float64\n",
      " 18  number of reviews               102416 non-null  float64\n",
      " 19  last review                     86706 non-null   object \n",
      " 20  reviews per month               86720 non-null   float64\n",
      " 21  review rate number              102273 non-null  float64\n",
      " 22  calculated host listings count  102280 non-null  float64\n",
      " 23  availability 365                102151 non-null  float64\n",
      " 24  house_rules                     50468 non-null   object \n",
      " 25  license                         2 non-null       object \n",
      "dtypes: float64(9), int64(2), object(15)\n",
      "memory usage: 20.4+ MB\n"
     ]
    }
   ],
   "source": [
    "#summary of data\n",
    "df.info()"
   ]
  },
  {
   "cell_type": "code",
   "execution_count": 22,
   "id": "5f2c0d0b",
   "metadata": {},
   "outputs": [
    {
     "data": {
      "text/plain": [
       "id                                  int64\n",
       "NAME                               object\n",
       "host id                             int64\n",
       "host_identity_verified             object\n",
       "host name                          object\n",
       "neighbourhood group                object\n",
       "neighbourhood                      object\n",
       "lat                               float64\n",
       "long                              float64\n",
       "country                            object\n",
       "country code                       object\n",
       "instant_bookable                   object\n",
       "cancellation_policy                object\n",
       "room type                          object\n",
       "Construction year                 float64\n",
       "price                              object\n",
       "service fee                        object\n",
       "minimum nights                    float64\n",
       "number of reviews                 float64\n",
       "last review                        object\n",
       "reviews per month                 float64\n",
       "review rate number                float64\n",
       "calculated host listings count    float64\n",
       "availability 365                  float64\n",
       "house_rules                        object\n",
       "license                            object\n",
       "dtype: object"
      ]
     },
     "execution_count": 22,
     "metadata": {},
     "output_type": "execute_result"
    }
   ],
   "source": [
    "#to check the datatype of each column\n",
    "df.dtypes"
   ]
  },
  {
   "cell_type": "code",
   "execution_count": 23,
   "id": "464b4e82",
   "metadata": {},
   "outputs": [
    {
     "data": {
      "text/html": [
       "<div>\n",
       "<style scoped>\n",
       "    .dataframe tbody tr th:only-of-type {\n",
       "        vertical-align: middle;\n",
       "    }\n",
       "\n",
       "    .dataframe tbody tr th {\n",
       "        vertical-align: top;\n",
       "    }\n",
       "\n",
       "    .dataframe thead th {\n",
       "        text-align: right;\n",
       "    }\n",
       "</style>\n",
       "<table border=\"1\" class=\"dataframe\">\n",
       "  <thead>\n",
       "    <tr style=\"text-align: right;\">\n",
       "      <th></th>\n",
       "      <th>id</th>\n",
       "      <th>NAME</th>\n",
       "      <th>host id</th>\n",
       "      <th>host_identity_verified</th>\n",
       "      <th>host name</th>\n",
       "      <th>neighbourhood group</th>\n",
       "      <th>neighbourhood</th>\n",
       "      <th>lat</th>\n",
       "      <th>long</th>\n",
       "      <th>country</th>\n",
       "      <th>...</th>\n",
       "      <th>service fee</th>\n",
       "      <th>minimum nights</th>\n",
       "      <th>number of reviews</th>\n",
       "      <th>last review</th>\n",
       "      <th>reviews per month</th>\n",
       "      <th>review rate number</th>\n",
       "      <th>calculated host listings count</th>\n",
       "      <th>availability 365</th>\n",
       "      <th>house_rules</th>\n",
       "      <th>license</th>\n",
       "    </tr>\n",
       "  </thead>\n",
       "  <tbody>\n",
       "    <tr>\n",
       "      <th>0</th>\n",
       "      <td>1001254</td>\n",
       "      <td>Clean &amp; quiet apt home by the park</td>\n",
       "      <td>80014485718</td>\n",
       "      <td>unconfirmed</td>\n",
       "      <td>Madaline</td>\n",
       "      <td>Brooklyn</td>\n",
       "      <td>Kensington</td>\n",
       "      <td>40.64749</td>\n",
       "      <td>-73.97237</td>\n",
       "      <td>United States</td>\n",
       "      <td>...</td>\n",
       "      <td>$193</td>\n",
       "      <td>10.0</td>\n",
       "      <td>9.0</td>\n",
       "      <td>10/19/2021</td>\n",
       "      <td>0.21</td>\n",
       "      <td>4.0</td>\n",
       "      <td>6.0</td>\n",
       "      <td>286.0</td>\n",
       "      <td>Clean up and treat the home the way you'd like...</td>\n",
       "      <td>NaN</td>\n",
       "    </tr>\n",
       "    <tr>\n",
       "      <th>1</th>\n",
       "      <td>1002102</td>\n",
       "      <td>Skylit Midtown Castle</td>\n",
       "      <td>52335172823</td>\n",
       "      <td>verified</td>\n",
       "      <td>Jenna</td>\n",
       "      <td>Manhattan</td>\n",
       "      <td>Midtown</td>\n",
       "      <td>40.75362</td>\n",
       "      <td>-73.98377</td>\n",
       "      <td>United States</td>\n",
       "      <td>...</td>\n",
       "      <td>$28</td>\n",
       "      <td>30.0</td>\n",
       "      <td>45.0</td>\n",
       "      <td>5/21/2022</td>\n",
       "      <td>0.38</td>\n",
       "      <td>4.0</td>\n",
       "      <td>2.0</td>\n",
       "      <td>228.0</td>\n",
       "      <td>Pet friendly but please confirm with me if the...</td>\n",
       "      <td>NaN</td>\n",
       "    </tr>\n",
       "    <tr>\n",
       "      <th>2</th>\n",
       "      <td>1002403</td>\n",
       "      <td>THE VILLAGE OF HARLEM....NEW YORK !</td>\n",
       "      <td>78829239556</td>\n",
       "      <td>NaN</td>\n",
       "      <td>Elise</td>\n",
       "      <td>Manhattan</td>\n",
       "      <td>Harlem</td>\n",
       "      <td>40.80902</td>\n",
       "      <td>-73.94190</td>\n",
       "      <td>United States</td>\n",
       "      <td>...</td>\n",
       "      <td>$124</td>\n",
       "      <td>3.0</td>\n",
       "      <td>0.0</td>\n",
       "      <td>NaN</td>\n",
       "      <td>NaN</td>\n",
       "      <td>5.0</td>\n",
       "      <td>1.0</td>\n",
       "      <td>352.0</td>\n",
       "      <td>I encourage you to use my kitchen, cooking and...</td>\n",
       "      <td>NaN</td>\n",
       "    </tr>\n",
       "    <tr>\n",
       "      <th>3</th>\n",
       "      <td>1002755</td>\n",
       "      <td>NaN</td>\n",
       "      <td>85098326012</td>\n",
       "      <td>unconfirmed</td>\n",
       "      <td>Garry</td>\n",
       "      <td>Brooklyn</td>\n",
       "      <td>Clinton Hill</td>\n",
       "      <td>40.68514</td>\n",
       "      <td>-73.95976</td>\n",
       "      <td>United States</td>\n",
       "      <td>...</td>\n",
       "      <td>$74</td>\n",
       "      <td>30.0</td>\n",
       "      <td>270.0</td>\n",
       "      <td>7/5/2019</td>\n",
       "      <td>4.64</td>\n",
       "      <td>4.0</td>\n",
       "      <td>1.0</td>\n",
       "      <td>322.0</td>\n",
       "      <td>NaN</td>\n",
       "      <td>NaN</td>\n",
       "    </tr>\n",
       "    <tr>\n",
       "      <th>4</th>\n",
       "      <td>1003689</td>\n",
       "      <td>Entire Apt: Spacious Studio/Loft by central park</td>\n",
       "      <td>92037596077</td>\n",
       "      <td>verified</td>\n",
       "      <td>Lyndon</td>\n",
       "      <td>Manhattan</td>\n",
       "      <td>East Harlem</td>\n",
       "      <td>40.79851</td>\n",
       "      <td>-73.94399</td>\n",
       "      <td>United States</td>\n",
       "      <td>...</td>\n",
       "      <td>$41</td>\n",
       "      <td>10.0</td>\n",
       "      <td>9.0</td>\n",
       "      <td>11/19/2018</td>\n",
       "      <td>0.10</td>\n",
       "      <td>3.0</td>\n",
       "      <td>1.0</td>\n",
       "      <td>289.0</td>\n",
       "      <td>Please no smoking in the house, porch or on th...</td>\n",
       "      <td>NaN</td>\n",
       "    </tr>\n",
       "  </tbody>\n",
       "</table>\n",
       "<p>5 rows × 26 columns</p>\n",
       "</div>"
      ],
      "text/plain": [
       "        id                                              NAME      host id  \\\n",
       "0  1001254                Clean & quiet apt home by the park  80014485718   \n",
       "1  1002102                             Skylit Midtown Castle  52335172823   \n",
       "2  1002403               THE VILLAGE OF HARLEM....NEW YORK !  78829239556   \n",
       "3  1002755                                               NaN  85098326012   \n",
       "4  1003689  Entire Apt: Spacious Studio/Loft by central park  92037596077   \n",
       "\n",
       "  host_identity_verified host name neighbourhood group neighbourhood  \\\n",
       "0            unconfirmed  Madaline            Brooklyn    Kensington   \n",
       "1               verified     Jenna           Manhattan       Midtown   \n",
       "2                    NaN     Elise           Manhattan        Harlem   \n",
       "3            unconfirmed     Garry            Brooklyn  Clinton Hill   \n",
       "4               verified    Lyndon           Manhattan   East Harlem   \n",
       "\n",
       "        lat      long        country  ... service fee minimum nights  \\\n",
       "0  40.64749 -73.97237  United States  ...       $193            10.0   \n",
       "1  40.75362 -73.98377  United States  ...        $28            30.0   \n",
       "2  40.80902 -73.94190  United States  ...       $124             3.0   \n",
       "3  40.68514 -73.95976  United States  ...        $74            30.0   \n",
       "4  40.79851 -73.94399  United States  ...        $41            10.0   \n",
       "\n",
       "  number of reviews last review  reviews per month review rate number  \\\n",
       "0               9.0  10/19/2021               0.21                4.0   \n",
       "1              45.0   5/21/2022               0.38                4.0   \n",
       "2               0.0         NaN                NaN                5.0   \n",
       "3             270.0    7/5/2019               4.64                4.0   \n",
       "4               9.0  11/19/2018               0.10                3.0   \n",
       "\n",
       "  calculated host listings count  availability 365  \\\n",
       "0                            6.0             286.0   \n",
       "1                            2.0             228.0   \n",
       "2                            1.0             352.0   \n",
       "3                            1.0             322.0   \n",
       "4                            1.0             289.0   \n",
       "\n",
       "                                         house_rules license  \n",
       "0  Clean up and treat the home the way you'd like...     NaN  \n",
       "1  Pet friendly but please confirm with me if the...     NaN  \n",
       "2  I encourage you to use my kitchen, cooking and...     NaN  \n",
       "3                                                NaN     NaN  \n",
       "4  Please no smoking in the house, porch or on th...     NaN  \n",
       "\n",
       "[5 rows x 26 columns]"
      ]
     },
     "execution_count": 23,
     "metadata": {},
     "output_type": "execute_result"
    }
   ],
   "source": [
    "#display the first few rows of data\n",
    "df.head()"
   ]
  },
  {
   "cell_type": "code",
   "execution_count": 24,
   "id": "49ed1086",
   "metadata": {},
   "outputs": [
    {
     "data": {
      "text/plain": [
       "(102599, 26)"
      ]
     },
     "execution_count": 24,
     "metadata": {},
     "output_type": "execute_result"
    }
   ],
   "source": [
    "#number of rows and columns\n",
    "df.shape"
   ]
  },
  {
   "cell_type": "code",
   "execution_count": 25,
   "id": "651325d5",
   "metadata": {},
   "outputs": [],
   "source": [
    "# Drop unnecessary columns\n",
    "df.drop(['host id','NAME', 'host_identity_verified', 'host name', 'country', 'country code', 'license','last review'], axis=1, inplace=True)"
   ]
  },
  {
   "cell_type": "code",
   "execution_count": 26,
   "id": "d651dfa1",
   "metadata": {},
   "outputs": [
    {
     "data": {
      "text/plain": [
       "(102058, 18)"
      ]
     },
     "execution_count": 26,
     "metadata": {},
     "output_type": "execute_result"
    }
   ],
   "source": [
    "#Remove duplicate rows based on all columns\n",
    "\n",
    "df.drop_duplicates(inplace=True)\n",
    "df.shape"
   ]
  },
  {
   "cell_type": "code",
   "execution_count": 27,
   "id": "93abba4c",
   "metadata": {},
   "outputs": [
    {
     "data": {
      "text/plain": [
       "id                                    0\n",
       "neighbourhood group                  29\n",
       "neighbourhood                        16\n",
       "lat                                   8\n",
       "long                                  8\n",
       "instant_bookable                    105\n",
       "cancellation_policy                  76\n",
       "room type                             0\n",
       "Construction year                   214\n",
       "price                               247\n",
       "service fee                         273\n",
       "minimum nights                      400\n",
       "number of reviews                   183\n",
       "reviews per month                 15818\n",
       "review rate number                  319\n",
       "calculated host listings count      319\n",
       "availability 365                    448\n",
       "house_rules                       51842\n",
       "dtype: int64"
      ]
     },
     "execution_count": 27,
     "metadata": {},
     "output_type": "execute_result"
    }
   ],
   "source": [
    "#missing values\n",
    "missing_values = df.isnull().sum()\n",
    "missing_values"
   ]
  },
  {
   "cell_type": "code",
   "execution_count": 28,
   "id": "8d7f3893",
   "metadata": {},
   "outputs": [
    {
     "data": {
      "text/plain": [
       "id                                  int64\n",
       "neighbourhood group                object\n",
       "neighbourhood                      object\n",
       "lat                               float64\n",
       "long                              float64\n",
       "instant_bookable                   object\n",
       "cancellation_policy                object\n",
       "room type                          object\n",
       "Construction year                 float64\n",
       "price                              object\n",
       "service fee                        object\n",
       "minimum nights                    float64\n",
       "number of reviews                 float64\n",
       "reviews per month                 float64\n",
       "review rate number                float64\n",
       "calculated host listings count    float64\n",
       "availability 365                  float64\n",
       "house_rules                        object\n",
       "dtype: object"
      ]
     },
     "execution_count": 28,
     "metadata": {},
     "output_type": "execute_result"
    }
   ],
   "source": [
    "df.dtypes\n"
   ]
  },
  {
   "cell_type": "code",
   "execution_count": 29,
   "id": "88580f22",
   "metadata": {},
   "outputs": [],
   "source": [
    "num_columns = ['Construction year', 'minimum nights', 'number of reviews',\n",
    "                     'reviews per month', 'review rate number', 'calculated host listings count',\n",
    "                     'availability 365']\n",
    "for i in num_columns:\n",
    "    df[i].fillna(df[i].median(), inplace=True)"
   ]
  },
  {
   "cell_type": "code",
   "execution_count": 30,
   "id": "8ed944e3",
   "metadata": {},
   "outputs": [],
   "source": [
    "# For categorical columns, we can consider filling missing values with the mode\n",
    "categorical_columns = ['neighbourhood group', 'neighbourhood','instant_bookable', 'cancellation_policy',\n",
    "                       'room type', 'house_rules']\n",
    "for col in categorical_columns:\n",
    "    df[col].fillna(df[col].mode()[0], inplace=True)"
   ]
  },
  {
   "cell_type": "code",
   "execution_count": 31,
   "id": "f2418e8d",
   "metadata": {},
   "outputs": [
    {
     "name": "stdout",
     "output_type": "stream",
     "text": [
      "<class 'pandas.core.series.Series'>\n",
      "Int64Index: 102058 entries, 0 to 102057\n",
      "Series name: price\n",
      "Non-Null Count   Dtype \n",
      "--------------   ----- \n",
      "101811 non-null  object\n",
      "dtypes: object(1)\n",
      "memory usage: 1.6+ MB\n"
     ]
    }
   ],
   "source": [
    "df['price'].info()\n"
   ]
  },
  {
   "cell_type": "code",
   "execution_count": 32,
   "id": "a6dada99",
   "metadata": {},
   "outputs": [],
   "source": [
    "# Data Transformation\n",
    "#df['price'] = df['price'].replace('$', '',regex=True).astype(float)\n",
    "df['price'] = df['price'].str.replace('$', '').str.replace(',', '').astype(float)"
   ]
  },
  {
   "cell_type": "code",
   "execution_count": 33,
   "id": "486bc3b0",
   "metadata": {},
   "outputs": [],
   "source": [
    "df = df.dropna(subset=['price','service fee'])\n"
   ]
  },
  {
   "cell_type": "code",
   "execution_count": 34,
   "id": "33bd8ae8",
   "metadata": {},
   "outputs": [
    {
     "data": {
      "text/plain": [
       "(id                                0\n",
       " neighbourhood group               0\n",
       " neighbourhood                     0\n",
       " lat                               8\n",
       " long                              8\n",
       " instant_bookable                  0\n",
       " cancellation_policy               0\n",
       " room type                         0\n",
       " Construction year                 0\n",
       " price                             0\n",
       " service fee                       0\n",
       " minimum nights                    0\n",
       " number of reviews                 0\n",
       " reviews per month                 0\n",
       " review rate number                0\n",
       " calculated host listings count    0\n",
       " availability 365                  0\n",
       " house_rules                       0\n",
       " dtype: int64,\n",
       " (101572, 18))"
      ]
     },
     "execution_count": 34,
     "metadata": {},
     "output_type": "execute_result"
    }
   ],
   "source": [
    "# Checking the dataset after handling missing values\n",
    "df.isnull().sum(), df.shape"
   ]
  },
  {
   "cell_type": "code",
   "execution_count": 35,
   "id": "95a4c80f",
   "metadata": {},
   "outputs": [],
   "source": [
    "# Grouping by 'neighbourhood' and calculating the mean 'lat' and 'long'\n",
    "mean_coords = df.groupby('neighbourhood')[['lat', 'long']].mean()\n",
    "\n",
    "# Applying the mean coordinates to missing values\n",
    "df = df.set_index('neighbourhood')\n",
    "df['lat'].fillna(mean_coords['lat'], inplace=True)\n",
    "df['long'].fillna(mean_coords['long'], inplace=True)\n",
    "df.reset_index(inplace=True)"
   ]
  },
  {
   "cell_type": "code",
   "execution_count": 36,
   "id": "c6040c5a",
   "metadata": {},
   "outputs": [
    {
     "data": {
      "text/plain": [
       "(neighbourhood                     0\n",
       " id                                0\n",
       " neighbourhood group               0\n",
       " lat                               0\n",
       " long                              0\n",
       " instant_bookable                  0\n",
       " cancellation_policy               0\n",
       " room type                         0\n",
       " Construction year                 0\n",
       " price                             0\n",
       " service fee                       0\n",
       " minimum nights                    0\n",
       " number of reviews                 0\n",
       " reviews per month                 0\n",
       " review rate number                0\n",
       " calculated host listings count    0\n",
       " availability 365                  0\n",
       " house_rules                       0\n",
       " dtype: int64,\n",
       " (101572, 18))"
      ]
     },
     "execution_count": 36,
     "metadata": {},
     "output_type": "execute_result"
    }
   ],
   "source": [
    "df.isnull().sum(), df.shape\n"
   ]
  },
  {
   "cell_type": "code",
   "execution_count": 37,
   "id": "35c6772d",
   "metadata": {},
   "outputs": [
    {
     "name": "stdout",
     "output_type": "stream",
     "text": [
      "Count of Various Room Types Available:\n",
      "Entire home/apt    53182\n",
      "Private room       46080\n",
      "Shared room         2197\n",
      "Hotel room           113\n",
      "Name: room type, dtype: int64\n"
     ]
    }
   ],
   "source": [
    "#List the count of various room types avaliable with Airbnb\n",
    "room_type_counts = df ['room type'].value_counts()\n",
    "print(\"Count of Various Room Types Available:\")\n",
    "print(room_type_counts)"
   ]
  },
  {
   "cell_type": "code",
   "execution_count": 40,
   "id": "4f7452d1",
   "metadata": {},
   "outputs": [],
   "source": [
    "import numpy as np\n",
    "\n",
    "# Selected numeric columns where I wanted to handle outliers\n",
    "numeric_columns = ['price', 'service fee']\n",
    "\n",
    "# Looping through each numeric column to calculate and handle outliers\n",
    "for column_name in numeric_columns:\n",
    "    \n",
    "    # Calculated the 1st and 3rd quartiles (Q1 and Q3) to find the interquartile range (IQR)\n",
    "    Q1 = np.percentile(df[column_name], 25, interpolation='midpoint')  # 25th percentile\n",
    "    Q3 = np.percentile(df[column_name], 75, interpolation='midpoint')  # 75th percentile\n",
    "    \n",
    "    # Calculated the Interquartile Range (IQR) and established upper and lower bounds for outliers\n",
    "    IQR = Q3 - Q1\n",
    "    low_lim = Q1 - 1.5 * IQR\n",
    "    up_lim = Q3 + 1.5 * IQR\n",
    "    \n",
    "    # Identified any data points outside the upper and lower bounds, classifying them as outliers\n",
    "    outliers = df[(df[column_name] < low_lim) | (df[column_name] > up_lim)][column_name]\n",
    "    \n",
    "    # Replaced values below the lower limit and above the upper limit with their respective bounds\n",
    "    df[column_name] = np.where(df[column_name] < low_lim, low_lim, df[column_name])\n",
    "    df[column_name] = np.where(df[column_name] > up_lim, up_lim, df[column_name])\n",
    "\n",
    "# Outliers were now addressed for the 'price' and 'service fee' columns\n"
   ]
  },
  {
   "cell_type": "code",
   "execution_count": 41,
   "id": "3820acbb",
   "metadata": {},
   "outputs": [],
   "source": [
    "from sklearn.preprocessing import StandardScaler\n",
    "\n",
    "# Initializing the StandardScaler\n",
    "scaler = StandardScaler()\n",
    "\n",
    "# Identifying the numeric columns to scale, ensuring outliers were already handled\n",
    "numeric_columns = ['price', 'service fee']\n",
    "\n",
    "# Fitting the scaler to the numeric columns and transforming the data\n",
    "df[numeric_columns] = scaler.fit_transform(df[numeric_columns])\n",
    "\n",
    "# At this point, the 'price' and 'service fee' columns are now standardized (mean=0, variance=1)\n"
   ]
  },
  {
   "cell_type": "code",
   "execution_count": 42,
   "id": "16a627f6",
   "metadata": {},
   "outputs": [],
   "source": [
    "# Selecting the numeric columns where outliers need to be handled\n",
    "numeric_columns = ['price', 'service fee', 'minimum nights', 'number of reviews']\n",
    "\n",
    "for column_name in numeric_columns:\n",
    "    # Calculating the 1st quartile (Q1) and 3rd quartile (Q3) using the 'midpoint' interpolation method\n",
    "    Q1 = np.percentile(df[column_name], 25, interpolation='midpoint')\n",
    "    Q3 = np.percentile(df[column_name], 75, interpolation='midpoint')\n",
    "\n",
    "    # Calculating the Interquartile Range (IQR)\n",
    "    IQR = Q3 - Q1\n",
    "\n",
    "    # Defining the lower and upper limit for outliers\n",
    "    low_lim = Q1 - 1.5 * IQR\n",
    "    up_lim = Q3 + 1.5 * IQR\n",
    "\n",
    "    # Identifying outliers in the column\n",
    "    outliers = df[(df[column_name] < low_lim) | (df[column_name] > up_lim)][column_name]\n",
    "\n",
    "    # Replacing outliers with the respective lower or upper limit\n",
    "    df[column_name] = np.where(df[column_name] < low_lim, low_lim, df[column_name])\n",
    "    df[column_name] = np.where(df[column_name] > up_lim, up_lim, df[column_name])\n"
   ]
  },
  {
   "cell_type": "code",
   "execution_count": 43,
   "id": "3933eba5",
   "metadata": {},
   "outputs": [
    {
     "name": "stdout",
     "output_type": "stream",
     "text": [
      "Shape of X (features): (101572, 17)\n",
      "Shape of y (target): (101572,)\n"
     ]
    }
   ],
   "source": [
    "# First, ensure any necessary libraries are imported\n",
    "import pandas as pd\n",
    "\n",
    "# Assuming 'df' is your dataframe\n",
    "# Separate features (X) and target variable (y)\n",
    "X = df.drop('price', axis=1)  # Dropping the 'price' column to keep it as the target variable\n",
    "y = df['price']  # The 'price' column becomes the target variable\n",
    "\n",
    "# Check the shape of X and y to confirm they have been split correctly\n",
    "print(\"Shape of X (features):\", X.shape)\n",
    "print(\"Shape of y (target):\", y.shape)\n"
   ]
  },
  {
   "cell_type": "code",
   "execution_count": 44,
   "id": "d72df762",
   "metadata": {},
   "outputs": [],
   "source": [
    "from sklearn.model_selection import train_test_split\n",
    "\n",
    "X_train, X_test, y_train, y_test = train_test_split(X,y, test_size = 0.20)"
   ]
  },
  {
   "cell_type": "code",
   "execution_count": 47,
   "id": "49379986",
   "metadata": {},
   "outputs": [
    {
     "name": "stdout",
     "output_type": "stream",
     "text": [
      "X_train is None: False\n",
      "y_train is None: False\n",
      "X_train shape: (81257, 17)\n",
      "y_train shape: (81257,)\n",
      "y_train data types:\n",
      " -1.264134    107\n",
      " 0.626414    103\n",
      "-0.434946    102\n",
      " 1.298810    101\n",
      " 1.232475    100\n",
      "            ... \n",
      " 0.557064     43\n",
      "-1.321423     42\n",
      " 0.484698     42\n",
      "-1.616916     42\n",
      "-0.483190     41\n",
      "Name: price, Length: 1151, dtype: int64\n",
      "Modified X_train shape: (81257, 2204)\n",
      "Coefficients: [[-3.63642650e-08 -6.53533238e-10  1.18666480e-09 ... -1.29614991e-14\n",
      "   9.35830151e-17  4.40464601e-15]\n",
      " [ 8.14378606e-09  1.38875165e-14 -2.52133947e-14 ...  9.22551367e-20\n",
      "  -9.85082476e-20 -2.18335091e-19]\n",
      " [-3.59038810e-08 -6.47138228e-10  1.17495661e-09 ...  3.20023401e-15\n",
      "  -3.15468120e-15 -2.15505016e-15]]\n",
      "Intercept: [-1.60461310e-11  3.40956451e-16 -1.58876809e-11]\n",
      "Training Accuracy: 0.5765164847336229\n"
     ]
    }
   ],
   "source": [
    "# Check for None values in X_train and y_train\n",
    "print(\"X_train is None:\", X_train is None)\n",
    "print(\"y_train is None:\", y_train is None)\n",
    "\n",
    "# Check the shapes of X_train and y_train\n",
    "print(\"X_train shape:\", X_train.shape)\n",
    "print(\"y_train shape:\", y_train.shape)\n",
    "\n",
    "# Ensure y_train is a numeric type\n",
    "print(\"y_train data types:\\n\", y_train.value_counts())\n",
    "\n",
    "# Convert y_train to a numeric type if necessary\n",
    "y_train = y_train.astype(int)\n",
    "\n",
    "# If X_train contains categorical features, encode them\n",
    "if X_train.select_dtypes(include=['object']).shape[1] > 0:\n",
    "    X_train = pd.get_dummies(X_train)\n",
    "\n",
    "# Re-check the shapes after any modifications\n",
    "print(\"Modified X_train shape:\", X_train.shape)\n",
    "\n",
    "# Now try fitting the logistic regression model again\n",
    "from sklearn.linear_model import LogisticRegression\n",
    "\n",
    "log_reg = LogisticRegression(C=1, penalty='l2', solver='liblinear', max_iter=200)\n",
    "log_reg.fit(X_train, y_train)\n",
    "\n",
    "# Coefficients and accuracy output as before\n",
    "coefficients = log_reg.coef_\n",
    "intercept = log_reg.intercept_\n",
    "train_accuracy = log_reg.score(X_train, y_train)\n",
    "\n",
    "print(\"Coefficients:\", coefficients)\n",
    "print(\"Intercept:\", intercept)\n",
    "print(\"Training Accuracy:\", train_accuracy)\n"
   ]
  },
  {
   "cell_type": "code",
   "execution_count": 63,
   "id": "c92b9ca4",
   "metadata": {
    "scrolled": true
   },
   "outputs": [
    {
     "name": "stdout",
     "output_type": "stream",
     "text": [
      "X_train is None: False\n",
      "y_train is None: False\n",
      "X_train shape: (81257, 17)\n",
      "y_train shape: (81257,)\n",
      "y_train data types:\n",
      " -1.264134    109\n",
      "-0.434946    106\n",
      " 0.780190    101\n",
      " 1.045530    101\n",
      " 0.626414    100\n",
      "            ... \n",
      " 0.484698     42\n",
      " 1.380221     42\n",
      "-1.616916     42\n",
      " 0.448515     41\n",
      " 0.897784     41\n",
      "Name: price, Length: 1151, dtype: int64\n",
      "Modified X_train shape: (81257, 2210)\n",
      "Training Accuracy (Decision Tree): 0.9984493643624549\n"
     ]
    }
   ],
   "source": [
    "from sklearn.tree import DecisionTreeClassifier\n",
    "\n",
    "# Check for None values\n",
    "print(\"X_train is None:\", X_train is None)\n",
    "print(\"y_train is None:\", y_train is None)\n",
    "\n",
    "# Check the shapes of X_train and y_train\n",
    "print(\"X_train shape:\", X_train.shape)\n",
    "print(\"y_train shape:\", y_train.shape)\n",
    "\n",
    "# Ensure y_train is a numeric type\n",
    "print(\"y_train data types:\\n\", y_train.value_counts())\n",
    "\n",
    "# Convert y_train to a numeric type if necessary\n",
    "y_train = y_train.astype(int)\n",
    "\n",
    "# Encode categorical features in X_train, if any\n",
    "if X_train.select_dtypes(include=['object']).shape[1] > 0:\n",
    "    X_train = pd.get_dummies(X_train)\n",
    "\n",
    "# Re-check the shape of X_train after modifications\n",
    "print(\"Modified X_train shape:\", X_train.shape)\n",
    "\n",
    "# Fit the Decision Tree model\n",
    "decision_tree = DecisionTreeClassifier(criterion='gini', max_depth=5, random_state=42)\n",
    "decision_tree.fit(X_train, y_train)\n",
    "\n",
    "# Output the training accuracy\n",
    "train_accuracy = decision_tree.score(X_train, y_train)\n",
    "print(\"Training Accuracy (Decision Tree):\", train_accuracy)\n"
   ]
  },
  {
   "cell_type": "code",
   "execution_count": 64,
   "id": "6cd4ff8b",
   "metadata": {},
   "outputs": [
    {
     "name": "stdout",
     "output_type": "stream",
     "text": [
      "X_train is None: False\n",
      "y_train is None: False\n",
      "X_train shape: (81257, 2210)\n",
      "y_train shape: (81257,)\n",
      "y_train data types:\n",
      "  0    46858\n",
      " 1    17303\n",
      "-1    17096\n",
      "Name: price, dtype: int64\n",
      "Modified X_train shape: (81257, 2210)\n",
      "Training Accuracy (Random Forest): 1.0\n"
     ]
    }
   ],
   "source": [
    "from sklearn.ensemble import RandomForestClassifier\n",
    "\n",
    "# Check for None values\n",
    "print(\"X_train is None:\", X_train is None)\n",
    "print(\"y_train is None:\", y_train is None)\n",
    "\n",
    "# Check the shapes of X_train and y_train\n",
    "print(\"X_train shape:\", X_train.shape)\n",
    "print(\"y_train shape:\", y_train.shape)\n",
    "\n",
    "# Ensure y_train is a numeric type\n",
    "print(\"y_train data types:\\n\", y_train.value_counts())\n",
    "\n",
    "# Convert y_train to a numeric type if necessary\n",
    "y_train = y_train.astype(int)\n",
    "\n",
    "# Encode categorical features in X_train, if any\n",
    "if X_train.select_dtypes(include=['object']).shape[1] > 0:\n",
    "    X_train = pd.get_dummies(X_train)\n",
    "\n",
    "# Re-check the shape of X_train after modifications\n",
    "print(\"Modified X_train shape:\", X_train.shape)\n",
    "\n",
    "# Fit the Random Forest model\n",
    "random_forest = RandomForestClassifier(n_estimators=100, random_state=42)\n",
    "random_forest.fit(X_train, y_train)\n",
    "\n",
    "# Output the training accuracy\n",
    "train_accuracy = random_forest.score(X_train, y_train)\n",
    "print(\"Training Accuracy (Random Forest):\", train_accuracy)\n"
   ]
  },
  {
   "cell_type": "code",
   "execution_count": 72,
   "id": "563490ef",
   "metadata": {},
   "outputs": [
    {
     "name": "stdout",
     "output_type": "stream",
     "text": [
      "y_test data type: int32\n",
      "y_pred_tree data type: int32\n",
      "\n",
      "Decision Tree Metrics:\n",
      "Accuracy: 0.9984248092542456\n",
      "Precision: 0.9984290849437752\n",
      "Recall: 0.9984248092542456\n",
      "F1-Score: 0.9984243457666647\n"
     ]
    }
   ],
   "source": [
    "# Check the type of y_test\n",
    "print(\"y_test data type:\", y_test.dtype)\n",
    "\n",
    "# Convert y_test to integer if it's not already\n",
    "if not pd.api.types.is_integer_dtype(y_test):\n",
    "    y_test = y_test.astype(int)\n",
    "\n",
    "# Check the type of y_pred_tree\n",
    "print(\"y_pred_tree data type:\", y_pred_tree.dtype)\n",
    "\n",
    "# Convert y_pred_tree to integer if it's not already\n",
    "if not pd.api.types.is_integer_dtype(y_pred_tree):\n",
    "    y_pred_tree = y_pred_tree.astype(int)\n",
    "\n",
    "# Now proceed with evaluation metrics\n",
    "accuracy_tree = accuracy_score(y_test, y_pred_tree)\n",
    "precision_tree = precision_score(y_test, y_pred_tree, average='weighted')\n",
    "recall_tree = recall_score(y_test, y_pred_tree, average='weighted')\n",
    "f1_tree = f1_score(y_test, y_pred_tree, average='weighted')\n",
    "\n",
    "print(\"\\nDecision Tree Metrics:\")\n",
    "print(f\"Accuracy: {accuracy_tree}\")\n",
    "print(f\"Precision: {precision_tree}\")\n",
    "print(f\"Recall: {recall_tree}\")\n",
    "print(f\"F1-Score: {f1_tree}\")"
   ]
  },
  {
   "cell_type": "code",
   "execution_count": 74,
   "id": "e9944fa2",
   "metadata": {},
   "outputs": [
    {
     "name": "stdout",
     "output_type": "stream",
     "text": [
      "Categorical columns in X_test: Index(['neighbourhood', 'neighbourhood group', 'cancellation_policy',\n",
      "       'room type', 'house_rules'],\n",
      "      dtype='object')\n",
      "y_test data type: int32\n",
      "\n",
      "Random Forest Metrics:\n",
      "Accuracy: 0.99857248338666\n",
      "Precision: 0.9985759958575396\n",
      "Recall: 0.99857248338666\n",
      "F1-Score: 0.9985721101003486\n"
     ]
    }
   ],
   "source": [
    "# Check for categorical features in X_test\n",
    "categorical_cols = X_test.select_dtypes(include=['object']).columns\n",
    "print(\"Categorical columns in X_test:\", categorical_cols)\n",
    "\n",
    "# If there are categorical columns, apply one-hot encoding\n",
    "if len(categorical_cols) > 0:\n",
    "    X_test = pd.get_dummies(X_test, columns=categorical_cols, drop_first=True)\n",
    "    \n",
    "# Make sure X_test has the same columns as X_train\n",
    "X_test = X_test.reindex(columns=X_train.columns, fill_value=0)\n",
    "\n",
    "# Now, make predictions with the Random Forest model\n",
    "y_pred_rf = random_forest.predict(X_test)\n",
    "\n",
    "# Proceed with the evaluation metrics\n",
    "print(\"y_test data type:\", y_test.dtype)\n",
    "\n",
    "# Convert y_test to integer if it's not already\n",
    "if not pd.api.types.is_integer_dtype(y_test):\n",
    "    y_test = y_test.astype(int)\n",
    "\n",
    "# Convert y_pred_rf to integer if it's not already\n",
    "if not pd.api.types.is_integer_dtype(y_pred_rf):\n",
    "    y_pred_rf = y_pred_rf.astype(int)\n",
    "\n",
    "# Now proceed with evaluation metrics\n",
    "accuracy_rf = accuracy_score(y_test, y_pred_rf)\n",
    "precision_rf = precision_score(y_test, y_pred_rf, average='weighted')\n",
    "recall_rf = recall_score(y_test, y_pred_rf, average='weighted')\n",
    "f1_rf = f1_score(y_test, y_pred_rf, average='weighted')\n",
    "\n",
    "# Display Random Forest evaluation results\n",
    "print(\"\\nRandom Forest Metrics:\")\n",
    "print(f\"Accuracy: {accuracy_rf}\")\n",
    "print(f\"Precision: {precision_rf}\")\n",
    "print(f\"Recall: {recall_rf}\")\n",
    "print(f\"F1-Score: {f1_rf}\")\n"
   ]
  },
  {
   "cell_type": "code",
   "execution_count": 75,
   "id": "b888c934",
   "metadata": {},
   "outputs": [
    {
     "name": "stdout",
     "output_type": "stream",
     "text": [
      "Categorical columns in X_test: Index([], dtype='object')\n",
      "y_test data type: int32\n",
      "\n",
      "Naïve Bayes Metrics:\n",
      "Accuracy: 0.578734924932316\n",
      "Precision: 0.3349341133364135\n",
      "Recall: 0.578734924932316\n",
      "F1-Score: 0.42430696635253423\n"
     ]
    }
   ],
   "source": [
    "from sklearn.naive_bayes import GaussianNB\n",
    "from sklearn.metrics import accuracy_score, precision_score, recall_score, f1_score\n",
    "\n",
    "# Check for categorical features in X_test\n",
    "categorical_cols = X_test.select_dtypes(include=['object']).columns\n",
    "print(\"Categorical columns in X_test:\", categorical_cols)\n",
    "\n",
    "# If there are categorical columns, apply one-hot encoding\n",
    "if len(categorical_cols) > 0:\n",
    "    X_train_encoded = pd.get_dummies(X_train, columns=categorical_cols, drop_first=True)\n",
    "    X_test_encoded = pd.get_dummies(X_test, columns=categorical_cols, drop_first=True)\n",
    "    \n",
    "    # Align columns in X_test with X_train\n",
    "    X_test_encoded = X_test_encoded.reindex(columns=X_train_encoded.columns, fill_value=0)\n",
    "else:\n",
    "    X_train_encoded = X_train\n",
    "    X_test_encoded = X_test\n",
    "\n",
    "# Fit the Naïve Bayes model\n",
    "naive_bayes = GaussianNB()\n",
    "naive_bayes.fit(X_train_encoded, y_train)\n",
    "\n",
    "# Make predictions\n",
    "y_pred_nb = naive_bayes.predict(X_test_encoded)\n",
    "\n",
    "# Check the type of y_test\n",
    "print(\"y_test data type:\", y_test.dtype)\n",
    "\n",
    "# Convert y_test to integer if it's not already\n",
    "if not pd.api.types.is_integer_dtype(y_test):\n",
    "    y_test = y_test.astype(int)\n",
    "\n",
    "# Convert y_pred_nb to integer if it's not already\n",
    "if not pd.api.types.is_integer_dtype(y_pred_nb):\n",
    "    y_pred_nb = y_pred_nb.astype(int)\n",
    "\n",
    "# Now proceed with evaluation metrics\n",
    "accuracy_nb = accuracy_score(y_test, y_pred_nb)\n",
    "precision_nb = precision_score(y_test, y_pred_nb, average='weighted')\n",
    "recall_nb = recall_score(y_test, y_pred_nb, average='weighted')\n",
    "f1_nb = f1_score(y_test, y_pred_nb, average='weighted')\n",
    "\n",
    "# Display Naïve Bayes evaluation results\n",
    "print(\"\\nNaïve Bayes Metrics:\")\n",
    "print(f\"Accuracy: {accuracy_nb}\")\n",
    "print(f\"Precision: {precision_nb}\")\n",
    "print(f\"Recall: {recall_nb}\")\n",
    "print(f\"F1-Score: {f1_nb}\")\n"
   ]
  },
  {
   "cell_type": "code",
   "execution_count": null,
   "id": "d1f5a40a",
   "metadata": {},
   "outputs": [],
   "source": []
  }
 ],
 "metadata": {
  "kernelspec": {
   "display_name": "Python 3 (ipykernel)",
   "language": "python",
   "name": "python3"
  },
  "language_info": {
   "codemirror_mode": {
    "name": "ipython",
    "version": 3
   },
   "file_extension": ".py",
   "mimetype": "text/x-python",
   "name": "python",
   "nbconvert_exporter": "python",
   "pygments_lexer": "ipython3",
   "version": "3.9.13"
  }
 },
 "nbformat": 4,
 "nbformat_minor": 5
}
